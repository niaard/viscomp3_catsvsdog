{
  "cells": [
    {
      "cell_type": "markdown",
      "metadata": {
        "id": "9ZMy04GSAIiM"
      },
      "source": [
        "KANIA ARDHANI PUTRI\n",
        "\n",
        "1301204140"
      ]
    },
    {
      "cell_type": "markdown",
      "metadata": {
        "id": "ieIdMYH8JaKM"
      },
      "source": [
        "JIKA INGIN MENJALANKAN DI GOOGLE COLLAB FILE \"cats-and_dogs_filteres.zip\" HARUS DI UPLOD DULU, KALAU TIDAK SEPERTINYA TIDAK BISA BERJALAN\n",
        "\n",
        "Lebih baik di Runtime : Jalankan Semua, mengurangi terjadinya kode error/tidak berjalan\n",
        "\n",
        "File Testing : /content/drive/MyDrive/woof_meow.jpg\n",
        "https://drive.google.com/file/d/1AzMSNUndco6ChykLCtqGcRBENPWXLum3/view?usp=share_link\n",
        "\n",
        "Link Colab : https://colab.research.google.com/drive/1U8ENdGx_HexZyYiJAd3_VaawERw6Uayq?usp=sharing"
      ]
    },
    {
      "cell_type": "code",
      "source": [],
      "metadata": {
        "id": "PExBaO6dQzJo"
      },
      "execution_count": null,
      "outputs": []
    },
    {
      "cell_type": "markdown",
      "source": [
        "**USING** **SVM** **to classify dogs and cats based on images.**"
      ],
      "metadata": {
        "id": "4UDT7OCp1_eq"
      }
    },
    {
      "cell_type": "code",
      "execution_count": null,
      "metadata": {
        "id": "j-N3GFU6-_0y",
        "colab": {
          "base_uri": "https://localhost:8080/"
        },
        "outputId": "8cf6cb94-88f0-4b64-9f99-760399006d49"
      },
      "outputs": [
        {
          "output_type": "stream",
          "name": "stdout",
          "text": [
            "--2023-04-05 05:49:09--  https://storage.googleapis.com/mledu-datasets/cats_and_dogs_filtered.zip\n",
            "Resolving storage.googleapis.com (storage.googleapis.com)... 74.125.196.128, 142.251.162.128, 173.194.213.128, ...\n",
            "Connecting to storage.googleapis.com (storage.googleapis.com)|74.125.196.128|:443... connected.\n",
            "HTTP request sent, awaiting response... 200 OK\n",
            "Length: 68606236 (65M) [application/zip]\n",
            "Saving to: ‘/tmp/cats_and_dogs_filtered.zip’\n",
            "\n",
            "/tmp/cats_and_dogs_ 100%[===================>]  65.43M   167MB/s    in 0.4s    \n",
            "\n",
            "2023-04-05 05:49:09 (167 MB/s) - ‘/tmp/cats_and_dogs_filtered.zip’ saved [68606236/68606236]\n",
            "\n"
          ]
        }
      ],
      "source": [
        "!wget --no-check-certificate \\\n",
        "    https://storage.googleapis.com/mledu-datasets/cats_and_dogs_filtered.zip \\\n",
        "    -O /tmp/cats_and_dogs_filtered.zip"
      ]
    },
    {
      "cell_type": "markdown",
      "metadata": {
        "id": "RzKu7EHLAHSY"
      },
      "source": []
    },
    {
      "cell_type": "code",
      "execution_count": 1,
      "metadata": {
        "id": "kq12r1fdAGuY"
      },
      "outputs": [],
      "source": [
        "# Importing the necessary libraries\n",
        "import os\n",
        "import zipfile\n",
        "import tensorflow as tf\n",
        "import numpy as np\n",
        "from tensorflow.keras.preprocessing.image import ImageDataGenerator\n",
        "from tensorflow.keras.regularizers import l2\n",
        "from tensorflow.keras.optimizers import RMSprop\n",
        "from tensorflow.keras.models import load_model\n",
        "from tensorflow.keras.utils import to_categorical\n",
        "from sklearn.model_selection import train_test_split\n",
        "import matplotlib.pyplot as plt\n",
        "from tensorflow.keras.layers import Conv2D, MaxPooling2D, Flatten, Dense\n",
        "from tensorflow.keras.models import Sequential"
      ]
    },
    {
      "cell_type": "code",
      "execution_count": 14,
      "metadata": {
        "id": "4eaCaXC8Cldu"
      },
      "outputs": [],
      "source": [
        "local_zip = '/content/drive/MyDrive/cats_and_dogs_filtered.zip'\n",
        "zip_ref = zipfile.ZipFile(local_zip, 'r')\n",
        "zip_ref.extractall('/tmp')\n",
        "zip_ref.close()\n",
        "\n",
        "base_dir = '/tmp/cats_and_dogs_filtered'\n",
        "train_dir = os.path.join(base_dir, 'train')\n",
        "validation_dir = os.path.join(base_dir, 'validation')\n",
        "\n",
        "# Directory with our training cat pictures\n",
        "train_cats_dir = os.path.join(train_dir, 'cats')\n",
        "\n",
        "# Directory with our training dog pictures\n",
        "train_dogs_dir = os.path.join(train_dir, 'dogs')\n",
        "\n",
        "# Directory with our validation cat pictures\n",
        "validation_cats_dir = os.path.join(validation_dir, 'cats')\n",
        "\n",
        "# Directory with our validation dog pictures\n",
        "validation_dogs_dir = os.path.join(validation_dir, 'dogs')\n",
        "\n",
        "model = tf.keras.models.Sequential([\n",
        "    tf.keras.layers.Conv2D(32, (3,3), activation='relu', input_shape=(150, 150, 3)),\n",
        "    tf.keras.layers.MaxPooling2D(2, 2),\n",
        "    tf.keras.layers.Conv2D(64, (3,3), activation='relu'),\n",
        "    tf.keras.layers.MaxPooling2D(2,2),\n",
        "    tf.keras.layers.Conv2D(128, (3,3), activation='relu'),\n",
        "    tf.keras.layers.MaxPooling2D(2,2),\n",
        "    tf.keras.layers.Conv2D(128, (3,3), activation='relu'),\n",
        "    tf.keras.layers.MaxPooling2D(2,2),\n",
        "    tf.keras.layers.Flatten(),\n",
        "    tf.keras.layers.Dense(512, activation='relu'),\n",
        "    tf.keras.layers.Dense(1, activation='sigmoid')\n",
        "])\n",
        "# compile the model\n",
        "model.compile(optimizer='rmsprop', loss='binary_crossentropy', metrics=['accuracy'])"
      ]
    },
    {
      "cell_type": "code",
      "source": [
        "model.compile(loss='categorical_crossentropy', optimizer='adam', metrics=['accuracy'])"
      ],
      "metadata": {
        "id": "VycRby4ksUVJ"
      },
      "execution_count": 6,
      "outputs": []
    },
    {
      "cell_type": "code",
      "execution_count": 8,
      "metadata": {
        "id": "86C4Ed5GBcmr",
        "colab": {
          "base_uri": "https://localhost:8080/"
        },
        "outputId": "4d035d1a-13a4-4fc3-ff1b-b006b28da09e"
      },
      "outputs": [
        {
          "output_type": "stream",
          "name": "stdout",
          "text": [
            "Found 3000 images belonging to 2 classes.\n",
            "Found 3000 images belonging to 2 classes.\n",
            "Found 1000 images belonging to 2 classes.\n"
          ]
        }
      ],
      "source": [
        "##### Image preprocessing: only rescale the image #####\n",
        "# All images will be rescaled by 1./255\n",
        "train_datagen = ImageDataGenerator(rescale=1./255)\n",
        "test_datagen = ImageDataGenerator(rescale=1./255)\n",
        "\n",
        "# Importing the images from the dataset\n",
        "training_set = train_datagen.flow_from_directory(\"/tmp/cats_and_dogs_filtered\",\n",
        "                                                 target_size = (150,150),\n",
        "                                                 batch_size = 20,\n",
        "                                                 class_mode = \"binary\")\n",
        "\n",
        "test_set = test_datagen.flow_from_directory(\"/tmp/cats_and_dogs_filtered\",\n",
        "                                   target_size = (150,150),\n",
        "                                   batch_size = 20,\n",
        "                                   class_mode = \"binary\")\n",
        "\n",
        "# Flow validation images in batches of 20 using test_datagen generator\n",
        "validation_generator = test_datagen.flow_from_directory(\n",
        "        validation_dir,\n",
        "        target_size=(150, 150),\n",
        "        batch_size=20,\n",
        "        class_mode='binary')"
      ]
    },
    {
      "cell_type": "code",
      "source": [
        "#Looking at the Output of Image Data Generator\n",
        "\n",
        "for data_batch, labels_batch in validation_generator:\n",
        "  print('Data Batch Shape', data_batch.shape)\n",
        "  print('Labels Batch Shape', labels_batch.shape)\n",
        "  break"
      ],
      "metadata": {
        "colab": {
          "base_uri": "https://localhost:8080/"
        },
        "id": "KNiRoGUbcRs5",
        "outputId": "d1097c70-d3b3-463a-c476-e0c50a456d3a"
      },
      "execution_count": 9,
      "outputs": [
        {
          "output_type": "stream",
          "name": "stdout",
          "text": [
            "Data Batch Shape (20, 150, 150, 3)\n",
            "Labels Batch Shape (20,)\n"
          ]
        }
      ]
    },
    {
      "cell_type": "code",
      "execution_count": 10,
      "metadata": {
        "id": "zHHDV8XRJqob"
      },
      "outputs": [],
      "source": [
        "# Setting the model cost function, optimizer and metrics\n",
        "model.compile(optimizer = \"adam\", loss = \"hinge\", metrics = [\"accuracy\"])"
      ]
    },
    {
      "cell_type": "code",
      "source": [
        "# Model summary\n",
        "model.summary()"
      ],
      "metadata": {
        "id": "B-fHPbbvxAYw",
        "colab": {
          "base_uri": "https://localhost:8080/"
        },
        "outputId": "aab3eb5e-2fd6-4dea-c71c-b999a581fe48"
      },
      "execution_count": 11,
      "outputs": [
        {
          "output_type": "stream",
          "name": "stdout",
          "text": [
            "Model: \"sequential_1\"\n",
            "_________________________________________________________________\n",
            " Layer (type)                Output Shape              Param #   \n",
            "=================================================================\n",
            " conv2d_4 (Conv2D)           (None, 148, 148, 32)      896       \n",
            "                                                                 \n",
            " max_pooling2d_4 (MaxPooling  (None, 74, 74, 32)       0         \n",
            " 2D)                                                             \n",
            "                                                                 \n",
            " conv2d_5 (Conv2D)           (None, 72, 72, 64)        18496     \n",
            "                                                                 \n",
            " max_pooling2d_5 (MaxPooling  (None, 36, 36, 64)       0         \n",
            " 2D)                                                             \n",
            "                                                                 \n",
            " conv2d_6 (Conv2D)           (None, 34, 34, 128)       73856     \n",
            "                                                                 \n",
            " max_pooling2d_6 (MaxPooling  (None, 17, 17, 128)      0         \n",
            " 2D)                                                             \n",
            "                                                                 \n",
            " conv2d_7 (Conv2D)           (None, 15, 15, 128)       147584    \n",
            "                                                                 \n",
            " max_pooling2d_7 (MaxPooling  (None, 7, 7, 128)        0         \n",
            " 2D)                                                             \n",
            "                                                                 \n",
            " flatten_1 (Flatten)         (None, 6272)              0         \n",
            "                                                                 \n",
            " dense_2 (Dense)             (None, 512)               3211776   \n",
            "                                                                 \n",
            " dense_3 (Dense)             (None, 1)                 513       \n",
            "                                                                 \n",
            "=================================================================\n",
            "Total params: 3,453,121\n",
            "Trainable params: 3,453,121\n",
            "Non-trainable params: 0\n",
            "_________________________________________________________________\n"
          ]
        }
      ]
    },
    {
      "cell_type": "code",
      "source": [
        "# Saving trained model\n",
        "model.save('Dogs-vs-Cats_model.h5')"
      ],
      "metadata": {
        "id": "nknVBFg5YE7E"
      },
      "execution_count": 12,
      "outputs": []
    },
    {
      "cell_type": "code",
      "source": [
        "# Add the image to a batch where it's the only member.\n",
        "model = (np.expand_dims(model,0))\n",
        "\n",
        "print(model.shape)"
      ],
      "metadata": {
        "colab": {
          "base_uri": "https://localhost:8080/"
        },
        "id": "bxJqlueanT_q",
        "outputId": "50ba38d9-2a91-4f15-ed35-6ea1bf2bc25a"
      },
      "execution_count": 22,
      "outputs": [
        {
          "output_type": "stream",
          "name": "stdout",
          "text": [
            "(1, 1)\n"
          ]
        }
      ]
    },
    {
      "cell_type": "code",
      "execution_count": null,
      "metadata": {
        "id": "dB90hTPpJwxZ",
        "colab": {
          "base_uri": "https://localhost:8080/"
        },
        "outputId": "e2eefeeb-cd3d-4378-dd8b-f23531fdc897"
      },
      "outputs": [
        {
          "output_type": "stream",
          "name": "stdout",
          "text": [
            "Epoch 1/35\n",
            "150/150 [==============================] - 50s 325ms/step - loss: 0.0282 - accuracy: 0.9927 - val_loss: 0.0198 - val_accuracy: 0.9983\n",
            "Epoch 2/35\n",
            "150/150 [==============================] - 47s 313ms/step - loss: 0.0213 - accuracy: 0.9963 - val_loss: 0.0161 - val_accuracy: 0.9973\n",
            "Epoch 3/35\n",
            "150/150 [==============================] - 47s 317ms/step - loss: 0.0266 - accuracy: 0.9943 - val_loss: 0.0238 - val_accuracy: 0.9910\n",
            "Epoch 4/35\n",
            "150/150 [==============================] - 47s 313ms/step - loss: 0.0182 - accuracy: 0.9973 - val_loss: 0.0172 - val_accuracy: 0.9983\n",
            "Epoch 5/35\n",
            "150/150 [==============================] - 48s 318ms/step - loss: 0.0176 - accuracy: 0.9973 - val_loss: 0.0183 - val_accuracy: 0.9943\n",
            "Epoch 6/35\n",
            "150/150 [==============================] - 41s 274ms/step - loss: 0.0263 - accuracy: 0.9933 - val_loss: 0.0144 - val_accuracy: 0.9987\n",
            "Epoch 7/35\n",
            "150/150 [==============================] - 47s 310ms/step - loss: 0.0262 - accuracy: 0.9923 - val_loss: 0.0184 - val_accuracy: 0.9990\n",
            "Epoch 8/35\n",
            "150/150 [==============================] - 47s 315ms/step - loss: 0.0150 - accuracy: 0.9990 - val_loss: 0.0167 - val_accuracy: 0.9977\n",
            "Epoch 9/35\n",
            "150/150 [==============================] - 47s 314ms/step - loss: 0.0161 - accuracy: 0.9967 - val_loss: 0.0131 - val_accuracy: 0.9980\n",
            "Epoch 10/35\n",
            "150/150 [==============================] - 47s 314ms/step - loss: 0.0214 - accuracy: 0.9947 - val_loss: 0.0120 - val_accuracy: 0.9997\n",
            "Epoch 11/35\n",
            "150/150 [==============================] - 47s 314ms/step - loss: 0.0170 - accuracy: 0.9967 - val_loss: 0.0145 - val_accuracy: 0.9983\n",
            "Epoch 12/35\n",
            "150/150 [==============================] - 41s 275ms/step - loss: 0.0167 - accuracy: 0.9970 - val_loss: 0.0140 - val_accuracy: 0.9973\n",
            "Epoch 13/35\n",
            "150/150 [==============================] - 48s 318ms/step - loss: 0.0147 - accuracy: 0.9980 - val_loss: 0.0137 - val_accuracy: 0.9983\n",
            "Epoch 14/35\n",
            "150/150 [==============================] - 42s 279ms/step - loss: 0.0151 - accuracy: 0.9977 - val_loss: 0.0170 - val_accuracy: 0.9990\n",
            "Epoch 15/35\n",
            "150/150 [==============================] - 43s 286ms/step - loss: 0.0140 - accuracy: 0.9980 - val_loss: 0.0106 - val_accuracy: 0.9990\n",
            "Epoch 16/35\n",
            "150/150 [==============================] - 42s 278ms/step - loss: 0.0191 - accuracy: 0.9967 - val_loss: 0.0143 - val_accuracy: 0.9993\n",
            "Epoch 17/35\n",
            "150/150 [==============================] - 42s 279ms/step - loss: 0.0167 - accuracy: 0.9953 - val_loss: 0.0113 - val_accuracy: 1.0000\n",
            "Epoch 18/35\n",
            "150/150 [==============================] - 47s 316ms/step - loss: 0.0142 - accuracy: 0.9977 - val_loss: 0.0146 - val_accuracy: 0.9980\n",
            "Epoch 19/35\n",
            "150/150 [==============================] - 47s 316ms/step - loss: 0.0122 - accuracy: 0.9977 - val_loss: 0.0084 - val_accuracy: 0.9993\n",
            "Epoch 20/35\n",
            "150/150 [==============================] - 47s 316ms/step - loss: 0.0104 - accuracy: 0.9983 - val_loss: 0.0088 - val_accuracy: 1.0000\n",
            "Epoch 21/35\n",
            "150/150 [==============================] - 42s 279ms/step - loss: 0.0122 - accuracy: 0.9983 - val_loss: 0.0135 - val_accuracy: 0.9993\n",
            "Epoch 22/35\n",
            "150/150 [==============================] - 47s 316ms/step - loss: 0.0174 - accuracy: 0.9960 - val_loss: 0.0139 - val_accuracy: 0.9963\n",
            "Epoch 23/35\n",
            "150/150 [==============================] - 47s 317ms/step - loss: 0.0176 - accuracy: 0.9953 - val_loss: 0.0113 - val_accuracy: 0.9967\n",
            "Epoch 24/35\n",
            "150/150 [==============================] - 47s 316ms/step - loss: 0.0168 - accuracy: 0.9957 - val_loss: 0.0181 - val_accuracy: 0.9917\n",
            "Epoch 25/35\n",
            "150/150 [==============================] - 47s 315ms/step - loss: 0.0133 - accuracy: 0.9963 - val_loss: 0.0174 - val_accuracy: 0.9997\n",
            "Epoch 26/35\n",
            "150/150 [==============================] - 47s 314ms/step - loss: 0.0145 - accuracy: 0.9970 - val_loss: 0.0111 - val_accuracy: 0.9960\n",
            "Epoch 27/35\n",
            "150/150 [==============================] - 47s 316ms/step - loss: 0.0107 - accuracy: 0.9980 - val_loss: 0.0099 - val_accuracy: 0.9983\n",
            "Epoch 28/35\n",
            "150/150 [==============================] - 42s 280ms/step - loss: 0.0104 - accuracy: 0.9987 - val_loss: 0.0095 - val_accuracy: 1.0000\n",
            "Epoch 29/35\n",
            "150/150 [==============================] - 47s 315ms/step - loss: 0.0108 - accuracy: 0.9980 - val_loss: 0.0124 - val_accuracy: 0.9973\n",
            "Epoch 30/35\n",
            "150/150 [==============================] - 47s 315ms/step - loss: 0.0103 - accuracy: 0.9983 - val_loss: 0.0070 - val_accuracy: 1.0000\n",
            "Epoch 31/35\n",
            "150/150 [==============================] - 47s 315ms/step - loss: 0.0096 - accuracy: 0.9980 - val_loss: 0.0086 - val_accuracy: 1.0000\n",
            "Epoch 32/35\n",
            "150/150 [==============================] - 42s 277ms/step - loss: 0.0111 - accuracy: 0.9980 - val_loss: 0.0089 - val_accuracy: 0.9983\n",
            "Epoch 33/35\n",
            "150/150 [==============================] - 47s 316ms/step - loss: 0.0122 - accuracy: 0.9967 - val_loss: 0.0107 - val_accuracy: 0.9993\n",
            "Epoch 34/35\n",
            "150/150 [==============================] - 47s 316ms/step - loss: 0.0103 - accuracy: 0.9993 - val_loss: 0.0087 - val_accuracy: 0.9970\n",
            "Epoch 35/35\n",
            "150/150 [==============================] - 47s 315ms/step - loss: 0.0107 - accuracy: 0.9973 - val_loss: 0.0130 - val_accuracy: 0.9950\n"
          ]
        }
      ],
      "source": [
        "# Model training\n",
        "r = model.fit(x = training_set, validation_data = test_set, epochs = 35)"
      ]
    },
    {
      "cell_type": "code",
      "source": [
        "#visualization \n",
        "acc = r.history['accuracy']\n",
        "val_acc = r.history['val_accuracy']\n",
        "loss = r.history['loss']\n",
        "val_loss = r.history['val_loss']\n",
        "\n",
        "epochs_range = range(35)\n",
        "\n",
        "plt.figure(figsize=(10, 10))\n",
        "plt.subplot(2, 2, 1)\n",
        "plt.plot(r.history['loss'], label='train loss')\n",
        "plt.plot(r.history['val_loss'], label='val loss')\n",
        "plt.legend()\n",
        "plt.legend(loc='lower right')\n",
        "plt.title('Training and Validation Accuracy')\n",
        "plt.show()\n",
        "plt.savefig('LossVal_loss')\n",
        "\n",
        "# plot the accuracy\n",
        "plt.figure(figsize=(10, 10))\n",
        "plt.subplot(2, 2, 2)\n",
        "plt.plot(r.history['accuracy'], label='train acc')\n",
        "plt.plot(r.history['val_accuracy'], label='val acc')\n",
        "plt.legend(loc='upper right')\n",
        "plt.legend()\n",
        "plt.title('Training and Validation Loss')\n",
        "plt.show()\n",
        "plt.savefig('AccVal_acc')"
      ],
      "metadata": {
        "colab": {
          "base_uri": "https://localhost:8080/",
          "height": 884
        },
        "id": "KHvywm3yIE3K",
        "outputId": "73203130-ffb0-4987-c3d4-30c1d75ed48d"
      },
      "execution_count": null,
      "outputs": [
        {
          "output_type": "display_data",
          "data": {
            "text/plain": [
              "<Figure size 1000x1000 with 1 Axes>"
            ],
            "image/png": "[encoded data removed]"
          },
          "metadata": {}
        },
        {
          "output_type": "display_data",
          "data": {
            "text/plain": [
              "<Figure size 640x480 with 0 Axes>"
            ]
          },
          "metadata": {}
        },
        {
          "output_type": "display_data",
          "data": {
            "text/plain": [
              "<Figure size 1000x1000 with 1 Axes>"
            ],
            "image/png": "[encoded data removed]"
          },
          "metadata": {}
        },
        {
          "output_type": "display_data",
          "data": {
            "text/plain": [
              "<Figure size 640x480 with 0 Axes>"
            ]
          },
          "metadata": {}
        }
      ]
    },
    {
      "cell_type": "code",
      "source": [
        "model.evaluate(x=training_set)"
      ],
      "metadata": {
        "colab": {
          "base_uri": "https://localhost:8080/"
        },
        "id": "zBeYk0drKe7C",
        "outputId": "9a897ce5-1257-4914-ef89-fffa6b5f4be5"
      },
      "execution_count": null,
      "outputs": [
        {
          "output_type": "stream",
          "name": "stdout",
          "text": [
            "150/150 [==============================] - 16s 105ms/step - loss: 0.0130 - accuracy: 0.9950\n"
          ]
        },
        {
          "output_type": "execute_result",
          "data": {
            "text/plain": [
              "[0.013026382774114609, 0.9950000047683716]"
            ]
          },
          "metadata": {},
          "execution_count": 72
        }
      ]
    },
    {
      "cell_type": "code",
      "execution_count": null,
      "metadata": {
        "id": "_PtQc9KPW713"
      },
      "outputs": [],
      "source": [
        "# Save it as a h5 file\n",
        "\n",
        "model.save('model_rcat_dog.h5')"
      ]
    },
    {
      "cell_type": "code",
      "source": [
        "from tensorflow.keras.models import load_model\n",
        " \n",
        "# load model\n",
        "model = load_model('model_rcat_dog.h5')"
      ],
      "metadata": {
        "id": "4pEbGIWGKl57"
      },
      "execution_count": null,
      "outputs": []
    },
    {
      "cell_type": "code",
      "source": [
        "# Lets see the model summary\n",
        "model.summary()"
      ],
      "metadata": {
        "colab": {
          "base_uri": "https://localhost:8080/"
        },
        "id": "OUqSyaeQMNR0",
        "outputId": "be3850a5-c924-4e35-c7cb-dba980e3d5d9"
      },
      "execution_count": null,
      "outputs": [
        {
          "output_type": "stream",
          "name": "stdout",
          "text": [
            "Model: \"sequential_3\"\n",
            "_________________________________________________________________\n",
            " Layer (type)                Output Shape              Param #   \n",
            "=================================================================\n",
            " conv2d_12 (Conv2D)          (None, 75, 75, 20)        560       \n",
            "                                                                 \n",
            " max_pooling2d_12 (MaxPoolin  (None, 37, 37, 20)       0         \n",
            " g2D)                                                            \n",
            "                                                                 \n",
            " conv2d_13 (Conv2D)          (None, 37, 37, 20)        3620      \n",
            "                                                                 \n",
            " max_pooling2d_13 (MaxPoolin  (None, 18, 18, 20)       0         \n",
            " g2D)                                                            \n",
            "                                                                 \n",
            " flatten_3 (Flatten)         (None, 6480)              0         \n",
            "                                                                 \n",
            " dense_6 (Dense)             (None, 128)               829568    \n",
            "                                                                 \n",
            " dense_7 (Dense)             (None, 1)                 129       \n",
            "                                                                 \n",
            "=================================================================\n",
            "Total params: 833,877\n",
            "Trainable params: 833,877\n",
            "Non-trainable params: 0\n",
            "_________________________________________________________________\n"
          ]
        }
      ]
    },
    {
      "cell_type": "code",
      "source": [
        "# Testing\n",
        "\n",
        "test_generator = test_datagen.flow_from_directory(base_dir, target_size=(150, 150), batch_size=20, class_mode='binary')\n",
        "test_loss, test_acc = model.evaluate_generator(test_generator, steps=50)\n",
        "print('test acc:', test_acc)"
      ],
      "metadata": {
        "colab": {
          "base_uri": "https://localhost:8080/"
        },
        "id": "_jlIwZlDcreC",
        "outputId": "30aaf707-3734-4b12-f8c9-36c0cb1130a3"
      },
      "execution_count": null,
      "outputs": [
        {
          "output_type": "stream",
          "name": "stdout",
          "text": [
            "Found 3000 images belonging to 2 classes.\n"
          ]
        },
        {
          "output_type": "stream",
          "name": "stderr",
          "text": [
            "<ipython-input-46-239928bbc977>:4: UserWarning: `Model.evaluate_generator` is deprecated and will be removed in a future version. Please use `Model.evaluate`, which supports generators.\n",
            "  test_loss, test_acc = model.evaluate_generator(test_generator, steps=50)\n"
          ]
        },
        {
          "output_type": "stream",
          "name": "stdout",
          "text": [
            "test acc: 0.6200000047683716\n"
          ]
        }
      ]
    },
    {
      "cell_type": "code",
      "source": [
        "# Testing\n",
        "\n",
        "import numpy as np\n",
        "from tensorflow.keras.preprocessing import image\n",
        "test_image = image.load_img('/content/woof_meow.jpg', target_size = (150,150,3))\n",
        "test_image = image.img_to_array(test_image)\n",
        "test_image=test_image/255\n",
        "test_image = np.expand_dims(test_image, axis = 0)\n",
        "result = model.predict(test_image)\n"
      ],
      "metadata": {
        "colab": {
          "base_uri": "https://localhost:8080/"
        },
        "id": "n9rUmWmMewrx",
        "outputId": "2f073772-9c68-4c6e-f4a5-b46f1f0e9efd"
      },
      "execution_count": 20,
      "outputs": [
        {
          "output_type": "stream",
          "name": "stdout",
          "text": [
            "1/1 [==============================] - 0s 370ms/step\n"
          ]
        }
      ]
    },
    {
      "cell_type": "code",
      "source": [
        "result"
      ],
      "metadata": {
        "colab": {
          "base_uri": "https://localhost:8080/"
        },
        "id": "Vs7KAvp_s7CR",
        "outputId": "abcb3a3b-34b4-4183-8eb3-26c8da0238b8"
      },
      "execution_count": null,
      "outputs": [
        {
          "output_type": "execute_result",
          "data": {
            "text/plain": [
              "array([[0.49577028]], dtype=float32)"
            ]
          },
          "metadata": {},
          "execution_count": 81
        }
      ]
    },
    {
      "cell_type": "code",
      "source": [
        "if result[0]<0:\n",
        "    print(\"The image classified is cat\")\n",
        "else:\n",
        "    print(\"The image classified is dog\")\n",
        "     "
      ],
      "metadata": {
        "colab": {
          "base_uri": "https://localhost:8080/"
        },
        "id": "ldfJAygDs9v6",
        "outputId": "68329977-4bed-4398-c511-0a8ed678af68"
      },
      "execution_count": null,
      "outputs": [
        {
          "output_type": "stream",
          "name": "stdout",
          "text": [
            "The image classified is dog\n"
          ]
        }
      ]
    }
  ],
  "metadata": {
    "colab": {
      "provenance": []
    },
    "kernelspec": {
      "display_name": "Python 3",
      "name": "python3"
    },
    "language_info": {
      "name": "python"
    }
  },
  "nbformat": 4,
  "nbformat_minor": 0
}